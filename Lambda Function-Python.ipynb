{
 "cells": [
  {
   "cell_type": "code",
   "execution_count": 1,
   "metadata": {},
   "outputs": [],
   "source": [
    "## A lambda function in python is an anonymous function or a function with no name.\n",
    "##It is a small and restricted function having no more than one line\n",
    "# Just like a normal function, Lambda function can have multiple arguments with one expression\n",
    "# In python, lambda function expression(or lambda forms)are utilized to construct anonymous function. To do so\n",
    "# You will use the lambda Key word..\n",
    "##Every anonymous function, that you will define will have 3 essentail parts:\n",
    "##1. The lambda Keyword\n",
    "#2. The parameter\n",
    "#3. The body\n",
    "#In Lambda Function,we can have any number of parameters but the function body can contain only 1 expression.\n",
    "##Moreover, a lambda function is written in a single line of code and can also be invoked immediatly."
   ]
  },
  {
   "cell_type": "code",
   "execution_count": 2,
   "metadata": {},
   "outputs": [],
   "source": [
    "##Syntex for lambda function\n",
    "# lambda p1,p2:expression\n",
    "\n",
    "##Here p1 and p2 are the parameters which are passed to the lambda function. We can add as many parametrs as we want.\n",
    "#However, we notice that we do not use bracets around the parameter as we do with regular functions.\n",
    "##Tha last part is expression, is any valid python expression that Operates on the parammeters you provide to function.\n",
    "##Example is below for Usage of Lambda function"
   ]
  },
  {
   "cell_type": "code",
   "execution_count": 4,
   "metadata": {},
   "outputs": [
    {
     "name": "stdout",
     "output_type": "stream",
     "text": [
      "4\n"
     ]
    }
   ],
   "source": [
    "add_op=lambda x,y:x+y\n"
   ]
  },
  {
   "cell_type": "code",
   "execution_count": 5,
   "metadata": {},
   "outputs": [
    {
     "data": {
      "text/plain": [
       "9"
      ]
     },
     "execution_count": 5,
     "metadata": {},
     "output_type": "execute_result"
    }
   ],
   "source": [
    "add_op(4,5)"
   ]
  },
  {
   "cell_type": "code",
   "execution_count": 8,
   "metadata": {},
   "outputs": [],
   "source": [
    "even_num=lambda n : n%2==0\n"
   ]
  },
  {
   "cell_type": "code",
   "execution_count": 9,
   "metadata": {},
   "outputs": [
    {
     "data": {
      "text/plain": [
       "True"
      ]
     },
     "execution_count": 9,
     "metadata": {},
     "output_type": "execute_result"
    }
   ],
   "source": [
    "even_num(4)"
   ]
  },
  {
   "cell_type": "code",
   "execution_count": 10,
   "metadata": {},
   "outputs": [
    {
     "data": {
      "text/plain": [
       "False"
      ]
     },
     "execution_count": 10,
     "metadata": {},
     "output_type": "execute_result"
    }
   ],
   "source": [
    "even_num(3)"
   ]
  },
  {
   "cell_type": "code",
   "execution_count": 11,
   "metadata": {},
   "outputs": [],
   "source": [
    "##Keyword lambda is used to define an anonunous function\n",
    "#x and y are the two parameter that we pass to lambda function\n",
    "#In the body of the function we used the expression statetemnt . Note that It will be single statement. \n",
    "#We can not write multiple statement in lambda function.\n",
    "#We can call the function and print the value"
   ]
  },
  {
   "cell_type": "code",
   "execution_count": 12,
   "metadata": {},
   "outputs": [],
   "source": [
    "##IIFE stands for Immediately invoked function execution. It means that a lambda function us callable as soon as \n",
    "# it is defined. Lets understand this"
   ]
  },
  {
   "cell_type": "code",
   "execution_count": 14,
   "metadata": {},
   "outputs": [],
   "source": [
    "a=lambda x:x+x"
   ]
  },
  {
   "cell_type": "code",
   "execution_count": 16,
   "metadata": {},
   "outputs": [
    {
     "data": {
      "text/plain": [
       "4"
      ]
     },
     "execution_count": 16,
     "metadata": {},
     "output_type": "execute_result"
    }
   ],
   "source": [
    "a(2) #This ability of lambda function to be invoked immediatly allows you to use them inside function\n",
    "#like map()reduce(). It is useful because you may not want to use these function again"
   ]
  },
  {
   "cell_type": "code",
   "execution_count": 17,
   "metadata": {},
   "outputs": [],
   "source": [
    "#Lambda in filter()---The filter function is used to select some particular elements from a sequence\n",
    "#of element. The sequence can be any iterator like list, tuples sets etc..\n",
    "\n",
    "#The elements which will be selected is based on the some pre-defined constarint. It takes 2 parameneters\n",
    "#1. A function that defines the filtering constarint\n",
    "#2. A sequence(any iterator like sets, list and tuples etc..)\n",
    "##Example is below"
   ]
  },
  {
   "cell_type": "code",
   "execution_count": 18,
   "metadata": {},
   "outputs": [],
   "source": [
    "seq=[10,2,4,5,6,7,8,9]\n",
    "filtered_result=filter(lambda x:x>4, seq)"
   ]
  },
  {
   "cell_type": "code",
   "execution_count": 22,
   "metadata": {},
   "outputs": [
    {
     "name": "stdout",
     "output_type": "stream",
     "text": [
      "[10, 5, 6, 7, 8, 9]\n"
     ]
    }
   ],
   "source": [
    "print(list(filtered_result))"
   ]
  },
  {
   "cell_type": "code",
   "execution_count": 23,
   "metadata": {},
   "outputs": [],
   "source": [
    "##Lambdas in map()--the function is used to apply a particular operations to every element in a sequence.\n",
    "##It takes two arguments\n",
    "#1. A function() that defines the Operation on the elements\n",
    "#2. One or more sequence"
   ]
  },
  {
   "cell_type": "code",
   "execution_count": 24,
   "metadata": {},
   "outputs": [
    {
     "name": "stdout",
     "output_type": "stream",
     "text": [
      "[100, 4, 64, 49, 25, 16, 9, 121, 0, 1]\n"
     ]
    }
   ],
   "source": [
    "sequences = [10,2,8,7,5,4,3,11,0, 1]\n",
    "filtered_result = map (lambda x: x*x, sequences) \n",
    "print(list(filtered_result))"
   ]
  },
  {
   "cell_type": "code",
   "execution_count": 25,
   "metadata": {},
   "outputs": [],
   "source": [
    "##Lambdas in Reduce()--It is same as map() but somehow it differs from the map in its working\n",
    "##The below steps\n",
    "#1. Perform the defined operations on the first 2 elemnt of the sequence\n",
    "#2. Save the result\n",
    "#3.Perform the operation with save result and the next element in the sequence.\n",
    "#4. Repeat until no more element are left\n",
    "##It takes two parameneters:-\n",
    "#1. A function that defines the Operation to performed\n",
    "#2. A sequence(any iterator)"
   ]
  },
  {
   "cell_type": "code",
   "execution_count": 26,
   "metadata": {},
   "outputs": [],
   "source": [
    "from functools import reduce"
   ]
  },
  {
   "cell_type": "code",
   "execution_count": 27,
   "metadata": {},
   "outputs": [],
   "source": [
    "sequences=[1,2,3,4,5]"
   ]
  },
  {
   "cell_type": "code",
   "execution_count": 28,
   "metadata": {},
   "outputs": [
    {
     "name": "stdout",
     "output_type": "stream",
     "text": [
      "120\n"
     ]
    }
   ],
   "source": [
    "product = reduce (lambda x, y: x*y, sequences)\n",
    "print(product)"
   ]
  },
  {
   "cell_type": "code",
   "execution_count": null,
   "metadata": {},
   "outputs": [],
   "source": []
  }
 ],
 "metadata": {
  "kernelspec": {
   "display_name": "Python 3",
   "language": "python",
   "name": "python3"
  },
  "language_info": {
   "codemirror_mode": {
    "name": "ipython",
    "version": 3
   },
   "file_extension": ".py",
   "mimetype": "text/x-python",
   "name": "python",
   "nbconvert_exporter": "python",
   "pygments_lexer": "ipython3",
   "version": "3.8.3"
  }
 },
 "nbformat": 4,
 "nbformat_minor": 4
}
